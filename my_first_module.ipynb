{
 "cells": [
  {
   "cell_type": "code",
   "execution_count": 11,
   "id": "a65aa1ae",
   "metadata": {},
   "outputs": [],
   "source": [
    "def checkIfNotNumeric(**args):\n",
    "    retVal = True\n",
    "    for i in args:\n",
    "        if not(isinstance(i,(int,float))):\n",
    "            return False\n",
    "    return True\n",
    "\n",
    "def add(*args):\n",
    "    s = 0\n",
    "    for x in args:\n",
    "        s += x\n",
    "    return s\n",
    "\n",
    "def multiply(*args):\n",
    "    m = 1\n",
    "    for k in args:\n",
    "        m *= k\n",
    "    return m\n",
    "\n",
    "myNameIs = \"Eminem!\""
   ]
  }
 ],
 "metadata": {
  "kernelspec": {
   "display_name": "Python 3 (ipykernel)",
   "language": "python",
   "name": "python3"
  },
  "language_info": {
   "codemirror_mode": {
    "name": "ipython",
    "version": 3
   },
   "file_extension": ".py",
   "mimetype": "text/x-python",
   "name": "python",
   "nbconvert_exporter": "python",
   "pygments_lexer": "ipython3",
   "version": "3.9.7"
  }
 },
 "nbformat": 4,
 "nbformat_minor": 5
}
